{
 "cells": [
  {
   "cell_type": "code",
   "execution_count": 4,
   "id": "f5cea33f-1f97-4645-a8ff-a34b2fdf7a2d",
   "metadata": {},
   "outputs": [],
   "source": [
    "import pandas as pd\n",
    "import numpy as np"
   ]
  },
  {
   "cell_type": "markdown",
   "id": "e8e73338-71f7-4ff7-bcdf-835c9f5ccea1",
   "metadata": {},
   "source": [
    "### Locations"
   ]
  },
  {
   "cell_type": "code",
   "execution_count": 93,
   "id": "ef593000-a180-485f-b05c-3e5436636437",
   "metadata": {},
   "outputs": [],
   "source": [
    "loc = 'https://github.com/reichlab/covid19-forecast-hub/raw/refs/heads/master/data-locations/locations.csv'\n",
    "df = pd.read_csv(loc)\n",
    "df = df[df.location.str.len()==2]\n",
    "df.to_csv('../data/location.csv',index=False)"
   ]
  },
  {
   "cell_type": "markdown",
   "id": "00695ac8-1cc0-4387-a1d0-406b393b2727",
   "metadata": {},
   "source": [
    "### COVID-19 Confirmed Cases"
   ]
  },
  {
   "cell_type": "code",
   "execution_count": 106,
   "id": "7cbb12a3-9281-4ade-a1c3-78225f9e24fb",
   "metadata": {},
   "outputs": [],
   "source": [
    "src = 'https://github.com/reichlab/covid19-forecast-hub/raw/refs/heads/master/data-truth/truth-Incident%20Cases.csv'\n",
    "df = pd.read_csv(src,dtype={'location':str},parse_dates=['date'])\n",
    "df['state_fips'] = df['location'].apply(lambda x: x[:2])\n",
    "df_pvt = df.groupby(['state_fips','date'])['value'].sum().unstack().resample('W-SAT',axis=1).sum().iloc[:,5:].T\n",
    "df_pvt.to_csv('../data/covid19_incident_cases.csv')"
   ]
  },
  {
   "cell_type": "markdown",
   "id": "831ceefb-84d1-4afc-b40d-7e250f3747f7",
   "metadata": {},
   "source": [
    "### COVID-19 Hospitalizations"
   ]
  },
  {
   "cell_type": "code",
   "execution_count": 107,
   "id": "a77aefe1-a2ff-4bff-a44e-396f7bb7f660",
   "metadata": {},
   "outputs": [],
   "source": [
    "src = 'https://github.com/reichlab/covid19-forecast-hub/raw/refs/heads/master/data-truth/truth-Incident%20Hospitalizations.csv'\n",
    "df = pd.read_csv(src,dtype={'location':str},parse_dates=['date'])\n",
    "df_pvt = df.pivot(index='date',columns='location',values='value').resample('W-SAT').sum().iloc[30:,:]\n",
    "df_pvt.to_csv('../data/covid19_incident_hosp.csv')"
   ]
  },
  {
   "cell_type": "markdown",
   "id": "83aa692a-69be-4305-ab10-58322bd24ec1",
   "metadata": {},
   "source": [
    "### Influenza Hospitalizations"
   ]
  },
  {
   "cell_type": "code",
   "execution_count": 120,
   "id": "f8d158fc-c2ef-4435-ae51-d7084cd0d0e8",
   "metadata": {},
   "outputs": [],
   "source": [
    "src = 'https://github.com/cdcepi/FluSight-forecast-hub/raw/refs/heads/main/target-data/target-hospital-admissions.csv'\n",
    "df = pd.read_csv(src,dtype={'location':str},parse_dates=['date'],index_col=0)\n",
    "df_pvt = df.pivot(index='date',columns='location',values='value')\n",
    "df_pvt.to_csv('../data/flu_incident_hosp.csv')"
   ]
  }
 ],
 "metadata": {
  "kernelspec": {
   "display_name": "Python 3 (ipykernel)",
   "language": "python",
   "name": "python3"
  },
  "language_info": {
   "codemirror_mode": {
    "name": "ipython",
    "version": 3
   },
   "file_extension": ".py",
   "mimetype": "text/x-python",
   "name": "python",
   "nbconvert_exporter": "python",
   "pygments_lexer": "ipython3",
   "version": "3.9.7"
  }
 },
 "nbformat": 4,
 "nbformat_minor": 5
}
